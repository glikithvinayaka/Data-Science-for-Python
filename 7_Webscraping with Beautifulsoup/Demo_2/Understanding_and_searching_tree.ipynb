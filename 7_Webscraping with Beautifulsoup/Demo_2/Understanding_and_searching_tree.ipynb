{
 "cells": [
  {
   "cell_type": "code",
   "execution_count": 1,
   "id": "1f225c8c",
   "metadata": {},
   "outputs": [],
   "source": [
    "#Import the required library\n",
    "from bs4 import BeautifulSoup"
   ]
  },
  {
   "cell_type": "code",
   "execution_count": 2,
   "id": "a65f098e",
   "metadata": {},
   "outputs": [],
   "source": [
    "#Import the webscraping html file\n",
    "HTMLfilepath = \"web_scraping_example.html\"\n",
    "with open(HTMLfilepath,\"r\") as organization:\n",
    "    soup = BeautifulSoup(organization,\"lxml\")"
   ]
  },
  {
   "cell_type": "code",
   "execution_count": 3,
   "id": "75e80674",
   "metadata": {},
   "outputs": [
    {
     "data": {
      "text/plain": [
       "[<html>\n",
       " <body>\n",
       " <div class=\"oraganization\">\n",
       " <ul id=\"HR\">\n",
       " <li class=\"HRmanager\">\n",
       " <div class=\"name\">Jack</div>\n",
       " <div class=\"ID\">101</div>\n",
       " </li>\n",
       " <li class=\"HRmanager\">\n",
       " <div class=\"name\">Daren</div>\n",
       " <div class=\"ID\">65</div>\n",
       " </li>\n",
       " </ul>\n",
       " <ul id=\"IT\">\n",
       " <li class=\"ITmanager\">\n",
       " <div class=\"name\">Morris</div>\n",
       " <div class=\"ID\">39</div>\n",
       " </li>\n",
       " <li class=\"ITmanager\">\n",
       " <div class=\"name\">Jane</div>\n",
       " <div class=\"ID\">11</div>\n",
       " </li>\n",
       " </ul>\n",
       " <ul id=\"Finance\">\n",
       " <li class=\"accountmanager\">\n",
       " <div class=\"name\">Tom</div>\n",
       " <div class=\"ID\">22</div>\n",
       " </li>\n",
       " <li class=\"accountmanager\">\n",
       " <div class=\"name\">Kelly</div>\n",
       " <div class=\"ID\">95</div>\n",
       " </li>\n",
       " </ul>\n",
       " </div>\n",
       " </body>\n",
       " </html>]"
      ]
     },
     "execution_count": 3,
     "metadata": {},
     "output_type": "execute_result"
    }
   ],
   "source": [
    "#View the contents of soup object\n",
    "soup.contents"
   ]
  },
  {
   "cell_type": "code",
   "execution_count": 4,
   "id": "c6811fdf",
   "metadata": {},
   "outputs": [
    {
     "name": "stdout",
     "output_type": "stream",
     "text": [
      "<class 'bs4.element.Tag'>\n"
     ]
    }
   ],
   "source": [
    "#Search using find methods\n",
    "tag_li = soup.find(\"li\")\n",
    "\n",
    "#print the tag type\n",
    "print(type(tag_li))"
   ]
  },
  {
   "cell_type": "code",
   "execution_count": 5,
   "id": "080a9b92",
   "metadata": {},
   "outputs": [
    {
     "name": "stdout",
     "output_type": "stream",
     "text": [
      "<li class=\"HRmanager\">\n",
      "<div class=\"name\">Jack</div>\n",
      "<div class=\"ID\">101</div>\n",
      "</li>\n"
     ]
    }
   ],
   "source": [
    "#Print the tag\n",
    "print(tag_li)"
   ]
  },
  {
   "cell_type": "code",
   "execution_count": 6,
   "id": "368105e0",
   "metadata": {},
   "outputs": [
    {
     "name": "stdout",
     "output_type": "stream",
     "text": [
      "<ul id=\"HR\">\n",
      "<li class=\"HRmanager\">\n",
      "<div class=\"name\">Jack</div>\n",
      "<div class=\"ID\">101</div>\n",
      "</li>\n",
      "<li class=\"HRmanager\">\n",
      "<div class=\"name\">Daren</div>\n",
      "<div class=\"ID\">65</div>\n",
      "</li>\n",
      "</ul>\n"
     ]
    }
   ],
   "source": [
    "#Search the document using find method for an id\n",
    "find_id = soup.find(id=\"HR\")\n",
    "\n",
    "#Print the find_id object\n",
    "print(find_id)"
   ]
  },
  {
   "cell_type": "code",
   "execution_count": 7,
   "id": "63cef9b9",
   "metadata": {},
   "outputs": [
    {
     "name": "stdout",
     "output_type": "stream",
     "text": [
      "Jack\n"
     ]
    }
   ],
   "source": [
    "#Print the string value\n",
    "print(find_id.li.div.string)"
   ]
  },
  {
   "cell_type": "code",
   "execution_count": 8,
   "id": "698700ef",
   "metadata": {},
   "outputs": [],
   "source": [
    "#Search using string only\n",
    "search_for_string_only = soup.findAll(text=[\"Kelly\",\"Jack\"])"
   ]
  },
  {
   "cell_type": "code",
   "execution_count": 9,
   "id": "74887c6f",
   "metadata": {},
   "outputs": [
    {
     "name": "stdout",
     "output_type": "stream",
     "text": [
      "['Jack', 'Kelly']\n"
     ]
    }
   ],
   "source": [
    "#Print the search values\n",
    "print(search_for_string_only)"
   ]
  },
  {
   "cell_type": "code",
   "execution_count": 10,
   "id": "d11e0ac5",
   "metadata": {},
   "outputs": [
    {
     "name": "stdout",
     "output_type": "stream",
     "text": [
      "<li class=\"ITmanager\">\n",
      "<div class=\"name\">Morris</div>\n",
      "<div class=\"ID\">39</div>\n",
      "</li>\n"
     ]
    }
   ],
   "source": [
    "#Search based on CSS class name (present as an attribute)\n",
    "css_class_search = soup.find(attrs={\"class\",\"ITmanager\"})\n",
    "print(css_class_search)"
   ]
  },
  {
   "cell_type": "code",
   "execution_count": 11,
   "id": "143b6e2a",
   "metadata": {},
   "outputs": [],
   "source": [
    "#Create a function to search the document based on the tag passed as a parameter\n",
    "def is_account_manager(tag):\n",
    "    return tag.has_attr(\"id\") and tag.get(\"id\") == \"Finance\""
   ]
  },
  {
   "cell_type": "code",
   "execution_count": 12,
   "id": "d8441d2d",
   "metadata": {},
   "outputs": [
    {
     "name": "stdout",
     "output_type": "stream",
     "text": [
      "Tom\n"
     ]
    }
   ],
   "source": [
    "#Search the document using function and print it\n",
    "account_manager = soup.find(is_account_manager)\n",
    "print(account_manager.li.div.string)"
   ]
  },
  {
   "cell_type": "code",
   "execution_count": 13,
   "id": "52a3e993",
   "metadata": {},
   "outputs": [
    {
     "name": "stdout",
     "output_type": "stream",
     "text": [
      "html\n",
      "body\n",
      "div\n",
      "ul\n",
      "li\n",
      "div\n",
      "div\n",
      "li\n",
      "div\n",
      "div\n",
      "ul\n",
      "li\n",
      "div\n",
      "div\n",
      "li\n",
      "div\n",
      "div\n",
      "ul\n",
      "li\n",
      "div\n",
      "div\n",
      "li\n",
      "div\n",
      "div\n"
     ]
    }
   ],
   "source": [
    "#Print the tag name using True - Which returns all the tags present in the document\n",
    "for tag in soup.findAll(True):\n",
    "    print(tag.name)"
   ]
  },
  {
   "cell_type": "code",
   "execution_count": 14,
   "id": "2966a191",
   "metadata": {},
   "outputs": [],
   "source": [
    "#Search using the findall method for the given class\n",
    "find_class = soup.findAll(class_=\"HRmanager\")"
   ]
  },
  {
   "cell_type": "code",
   "execution_count": 15,
   "id": "4ced2ea4",
   "metadata": {},
   "outputs": [
    {
     "data": {
      "text/plain": [
       "bs4.element.ResultSet"
      ]
     },
     "execution_count": 15,
     "metadata": {},
     "output_type": "execute_result"
    }
   ],
   "source": [
    "#View the type of class\n",
    "type(find_class)"
   ]
  },
  {
   "cell_type": "code",
   "execution_count": 16,
   "id": "e8ed4520",
   "metadata": {},
   "outputs": [
    {
     "name": "stdout",
     "output_type": "stream",
     "text": [
      "<li class=\"HRmanager\">\n",
      "<div class=\"name\">Jack</div>\n",
      "<div class=\"ID\">101</div>\n",
      "</li>\n"
     ]
    }
   ],
   "source": [
    "#Print the second resultset\n",
    "print(find_class[0])"
   ]
  },
  {
   "cell_type": "code",
   "execution_count": 17,
   "id": "8667d1d9",
   "metadata": {},
   "outputs": [
    {
     "name": "stdout",
     "output_type": "stream",
     "text": [
      "<li class=\"HRmanager\">\n",
      "<div class=\"name\">Daren</div>\n",
      "<div class=\"ID\">65</div>\n",
      "</li>\n"
     ]
    }
   ],
   "source": [
    "#Print the second result\n",
    "print(find_class[1])"
   ]
  },
  {
   "cell_type": "code",
   "execution_count": 18,
   "id": "bd977bc2",
   "metadata": {},
   "outputs": [
    {
     "name": "stdout",
     "output_type": "stream",
     "text": [
      "[<ul id=\"HR\">\n",
      "<li class=\"HRmanager\">\n",
      "<div class=\"name\">Jack</div>\n",
      "<div class=\"ID\">101</div>\n",
      "</li>\n",
      "<li class=\"HRmanager\">\n",
      "<div class=\"name\">Daren</div>\n",
      "<div class=\"ID\">65</div>\n",
      "</li>\n",
      "</ul>]\n"
     ]
    }
   ],
   "source": [
    "#Find parents using find parent method\n",
    "find_class = find_class[0]\n",
    "find_parent = find_class.find_parents(\"ul\")\n",
    "print(find_parent)"
   ]
  },
  {
   "cell_type": "code",
   "execution_count": 19,
   "id": "1336e263",
   "metadata": {},
   "outputs": [],
   "source": [
    "#Now use find method to search based on id\n",
    "org = soup.find(id = \"IT\")"
   ]
  },
  {
   "cell_type": "code",
   "execution_count": 20,
   "id": "aaadde11",
   "metadata": {},
   "outputs": [
    {
     "name": "stdout",
     "output_type": "stream",
     "text": [
      "<ul id=\"IT\">\n",
      "<li class=\"ITmanager\">\n",
      "<div class=\"name\">Morris</div>\n",
      "<div class=\"ID\">39</div>\n",
      "</li>\n",
      "<li class=\"ITmanager\">\n",
      "<div class=\"name\">Jane</div>\n",
      "<div class=\"ID\">11</div>\n",
      "</li>\n",
      "</ul>\n"
     ]
    }
   ],
   "source": [
    "#Print the search object\n",
    "print(org)"
   ]
  },
  {
   "cell_type": "code",
   "execution_count": 21,
   "id": "3e6f22e7",
   "metadata": {},
   "outputs": [],
   "source": [
    "#Find the next siblings\n",
    "next_sibling = org.findNextSiblings()"
   ]
  },
  {
   "cell_type": "code",
   "execution_count": 22,
   "id": "88c24ebb",
   "metadata": {},
   "outputs": [
    {
     "name": "stdout",
     "output_type": "stream",
     "text": [
      "<bound method PageElement.find_parents of <ul id=\"IT\">\n",
      "<li class=\"ITmanager\">\n",
      "<div class=\"name\">Morris</div>\n",
      "<div class=\"ID\">39</div>\n",
      "</li>\n",
      "<li class=\"ITmanager\">\n",
      "<div class=\"name\">Jane</div>\n",
      "<div class=\"ID\">11</div>\n",
      "</li>\n",
      "</ul>>\n"
     ]
    }
   ],
   "source": [
    "#Print Parents\n",
    "parent = org.findParents\n",
    "print(parent)"
   ]
  },
  {
   "cell_type": "code",
   "execution_count": 23,
   "id": "ee3bb009",
   "metadata": {},
   "outputs": [
    {
     "name": "stdout",
     "output_type": "stream",
     "text": [
      "[<div class=\"ID\">65</div>, <div class=\"name\">Daren</div>, <li class=\"HRmanager\">\n",
      "<div class=\"name\">Daren</div>\n",
      "<div class=\"ID\">65</div>\n",
      "</li>, <div class=\"ID\">101</div>, <div class=\"name\">Jack</div>, <li class=\"HRmanager\">\n",
      "<div class=\"name\">Jack</div>\n",
      "<div class=\"ID\">101</div>\n",
      "</li>, <ul id=\"HR\">\n",
      "<li class=\"HRmanager\">\n",
      "<div class=\"name\">Jack</div>\n",
      "<div class=\"ID\">101</div>\n",
      "</li>\n",
      "<li class=\"HRmanager\">\n",
      "<div class=\"name\">Daren</div>\n",
      "<div class=\"ID\">65</div>\n",
      "</li>\n",
      "</ul>, <div class=\"oraganization\">\n",
      "<ul id=\"HR\">\n",
      "<li class=\"HRmanager\">\n",
      "<div class=\"name\">Jack</div>\n",
      "<div class=\"ID\">101</div>\n",
      "</li>\n",
      "<li class=\"HRmanager\">\n",
      "<div class=\"name\">Daren</div>\n",
      "<div class=\"ID\">65</div>\n",
      "</li>\n",
      "</ul>\n",
      "<ul id=\"IT\">\n",
      "<li class=\"ITmanager\">\n",
      "<div class=\"name\">Morris</div>\n",
      "<div class=\"ID\">39</div>\n",
      "</li>\n",
      "<li class=\"ITmanager\">\n",
      "<div class=\"name\">Jane</div>\n",
      "<div class=\"ID\">11</div>\n",
      "</li>\n",
      "</ul>\n",
      "<ul id=\"Finance\">\n",
      "<li class=\"accountmanager\">\n",
      "<div class=\"name\">Tom</div>\n",
      "<div class=\"ID\">22</div>\n",
      "</li>\n",
      "<li class=\"accountmanager\">\n",
      "<div class=\"name\">Kelly</div>\n",
      "<div class=\"ID\">95</div>\n",
      "</li>\n",
      "</ul>\n",
      "</div>, <body>\n",
      "<div class=\"oraganization\">\n",
      "<ul id=\"HR\">\n",
      "<li class=\"HRmanager\">\n",
      "<div class=\"name\">Jack</div>\n",
      "<div class=\"ID\">101</div>\n",
      "</li>\n",
      "<li class=\"HRmanager\">\n",
      "<div class=\"name\">Daren</div>\n",
      "<div class=\"ID\">65</div>\n",
      "</li>\n",
      "</ul>\n",
      "<ul id=\"IT\">\n",
      "<li class=\"ITmanager\">\n",
      "<div class=\"name\">Morris</div>\n",
      "<div class=\"ID\">39</div>\n",
      "</li>\n",
      "<li class=\"ITmanager\">\n",
      "<div class=\"name\">Jane</div>\n",
      "<div class=\"ID\">11</div>\n",
      "</li>\n",
      "</ul>\n",
      "<ul id=\"Finance\">\n",
      "<li class=\"accountmanager\">\n",
      "<div class=\"name\">Tom</div>\n",
      "<div class=\"ID\">22</div>\n",
      "</li>\n",
      "<li class=\"accountmanager\">\n",
      "<div class=\"name\">Kelly</div>\n",
      "<div class=\"ID\">95</div>\n",
      "</li>\n",
      "</ul>\n",
      "</div>\n",
      "</body>, <html>\n",
      "<body>\n",
      "<div class=\"oraganization\">\n",
      "<ul id=\"HR\">\n",
      "<li class=\"HRmanager\">\n",
      "<div class=\"name\">Jack</div>\n",
      "<div class=\"ID\">101</div>\n",
      "</li>\n",
      "<li class=\"HRmanager\">\n",
      "<div class=\"name\">Daren</div>\n",
      "<div class=\"ID\">65</div>\n",
      "</li>\n",
      "</ul>\n",
      "<ul id=\"IT\">\n",
      "<li class=\"ITmanager\">\n",
      "<div class=\"name\">Morris</div>\n",
      "<div class=\"ID\">39</div>\n",
      "</li>\n",
      "<li class=\"ITmanager\">\n",
      "<div class=\"name\">Jane</div>\n",
      "<div class=\"ID\">11</div>\n",
      "</li>\n",
      "</ul>\n",
      "<ul id=\"Finance\">\n",
      "<li class=\"accountmanager\">\n",
      "<div class=\"name\">Tom</div>\n",
      "<div class=\"ID\">22</div>\n",
      "</li>\n",
      "<li class=\"accountmanager\">\n",
      "<div class=\"name\">Kelly</div>\n",
      "<div class=\"ID\">95</div>\n",
      "</li>\n",
      "</ul>\n",
      "</div>\n",
      "</body>\n",
      "</html>]\n"
     ]
    }
   ],
   "source": [
    "#Find and print all previous tags (Use the findall previous method)\n",
    "all_previous = org.findAllPrevious()\n",
    "print(all_previous)"
   ]
  },
  {
   "cell_type": "code",
   "execution_count": 24,
   "id": "5106a960",
   "metadata": {},
   "outputs": [
    {
     "name": "stdout",
     "output_type": "stream",
     "text": [
      "<ul id=\"HR\">\n",
      "<li class=\"HRmanager\">\n",
      "<div class=\"name\">Jack</div>\n",
      "<div class=\"ID\">101</div>\n",
      "</li>\n",
      "<li class=\"HRmanager\">\n",
      "<div class=\"name\">Daren</div>\n",
      "<div class=\"ID\">65</div>\n",
      "</li>\n",
      "</ul>\n"
     ]
    }
   ],
   "source": [
    "#Search and print previous sibling\n",
    "previous_sibling = org.findPreviousSibling()\n",
    "print(previous_sibling)"
   ]
  },
  {
   "cell_type": "code",
   "execution_count": 25,
   "id": "52ed027d",
   "metadata": {},
   "outputs": [
    {
     "name": "stdout",
     "output_type": "stream",
     "text": [
      "[<li class=\"ITmanager\">\n",
      "<div class=\"name\">Morris</div>\n",
      "<div class=\"ID\">39</div>\n",
      "</li>, <div class=\"name\">Morris</div>, <div class=\"ID\">39</div>, <li class=\"ITmanager\">\n",
      "<div class=\"name\">Jane</div>\n",
      "<div class=\"ID\">11</div>\n",
      "</li>, <div class=\"name\">Jane</div>, <div class=\"ID\">11</div>, <ul id=\"Finance\">\n",
      "<li class=\"accountmanager\">\n",
      "<div class=\"name\">Tom</div>\n",
      "<div class=\"ID\">22</div>\n",
      "</li>\n",
      "<li class=\"accountmanager\">\n",
      "<div class=\"name\">Kelly</div>\n",
      "<div class=\"ID\">95</div>\n",
      "</li>\n",
      "</ul>, <li class=\"accountmanager\">\n",
      "<div class=\"name\">Tom</div>\n",
      "<div class=\"ID\">22</div>\n",
      "</li>, <div class=\"name\">Tom</div>, <div class=\"ID\">22</div>, <li class=\"accountmanager\">\n",
      "<div class=\"name\">Kelly</div>\n",
      "<div class=\"ID\">95</div>\n",
      "</li>, <div class=\"name\">Kelly</div>, <div class=\"ID\">95</div>]\n"
     ]
    }
   ],
   "source": [
    "#Search and print all next\n",
    "all_next = org.findAllNext()\n",
    "print(all_next)"
   ]
  },
  {
   "cell_type": "code",
   "execution_count": 26,
   "id": "da758e86",
   "metadata": {},
   "outputs": [
    {
     "name": "stdout",
     "output_type": "stream",
     "text": [
      "\n",
      "abc@example.com\n"
     ]
    }
   ],
   "source": [
    "#Use regular expression to search the document\n",
    "import re\n",
    "email_example = \"\"\"<br/>\n",
    "<p>my email id is </p>\n",
    "abc@example.com\"\"\"\n",
    "soup_email = BeautifulSoup(email_example,\"lxml\")\n",
    "#Use compile method to compile the information which contains regular expression\n",
    "emailId_regexp = re.compile(\"\\w+@\\w+\\.\\w+\")\n",
    "#Find and print the email id using regular expression\n",
    "email_id = soup_email.find(text=emailId_regexp)\n",
    "print(email_id)"
   ]
  },
  {
   "cell_type": "code",
   "execution_count": null,
   "id": "aaac393b",
   "metadata": {},
   "outputs": [],
   "source": []
  }
 ],
 "metadata": {
  "kernelspec": {
   "display_name": "Python 3 (ipykernel)",
   "language": "python",
   "name": "python3"
  },
  "language_info": {
   "codemirror_mode": {
    "name": "ipython",
    "version": 3
   },
   "file_extension": ".py",
   "mimetype": "text/x-python",
   "name": "python",
   "nbconvert_exporter": "python",
   "pygments_lexer": "ipython3",
   "version": "3.9.12"
  }
 },
 "nbformat": 4,
 "nbformat_minor": 5
}
